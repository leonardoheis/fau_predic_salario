{
 "cells": [
  {
   "cell_type": "code",
   "execution_count": null,
   "id": "1c467b10",
   "metadata": {},
   "outputs": [
    {
     "name": "stdout",
     "output_type": "stream",
     "text": [
      "Requirement already satisfied: featuretools in c:\\users\\leona\\anaconda3\\envs\\funda_apre_auto\\lib\\site-packages (1.31.0)\n",
      "Requirement already satisfied: cloudpickle>=1.5.0 in c:\\users\\leona\\anaconda3\\envs\\funda_apre_auto\\lib\\site-packages (from featuretools) (2.2.1)\n",
      "Requirement already satisfied: holidays>=0.17 in c:\\users\\leona\\anaconda3\\envs\\funda_apre_auto\\lib\\site-packages (from featuretools) (0.69)\n",
      "Requirement already satisfied: numpy>=1.25.0 in c:\\users\\leona\\anaconda3\\envs\\funda_apre_auto\\lib\\site-packages (from featuretools) (1.26.4)\n",
      "Requirement already satisfied: packaging>=20.0 in c:\\users\\leona\\anaconda3\\envs\\funda_apre_auto\\lib\\site-packages (from featuretools) (23.2)\n",
      "Requirement already satisfied: pandas>=2.0.0 in c:\\users\\leona\\anaconda3\\envs\\funda_apre_auto\\lib\\site-packages (from featuretools) (2.1.4)\n",
      "Requirement already satisfied: psutil>=5.7.0 in c:\\users\\leona\\anaconda3\\envs\\funda_apre_auto\\lib\\site-packages (from featuretools) (7.0.0)\n",
      "Requirement already satisfied: scipy>=1.10.0 in c:\\users\\leona\\anaconda3\\envs\\funda_apre_auto\\lib\\site-packages (from featuretools) (1.11.4)\n",
      "Requirement already satisfied: tqdm>=4.66.3 in c:\\users\\leona\\anaconda3\\envs\\funda_apre_auto\\lib\\site-packages (from featuretools) (4.67.1)\n",
      "Requirement already satisfied: woodwork>=0.28.0 in c:\\users\\leona\\anaconda3\\envs\\funda_apre_auto\\lib\\site-packages (from featuretools) (0.31.0)\n",
      "Requirement already satisfied: python-dateutil in c:\\users\\leona\\anaconda3\\envs\\funda_apre_auto\\lib\\site-packages (from holidays>=0.17->featuretools) (2.9.0.post0)\n",
      "Requirement already satisfied: pytz>=2020.1 in c:\\users\\leona\\anaconda3\\envs\\funda_apre_auto\\lib\\site-packages (from pandas>=2.0.0->featuretools) (2023.4)\n",
      "Requirement already satisfied: tzdata>=2022.1 in c:\\users\\leona\\anaconda3\\envs\\funda_apre_auto\\lib\\site-packages (from pandas>=2.0.0->featuretools) (2025.2)\n",
      "Requirement already satisfied: colorama in c:\\users\\leona\\anaconda3\\envs\\funda_apre_auto\\lib\\site-packages (from tqdm>=4.66.3->featuretools) (0.4.6)\n",
      "Requirement already satisfied: scikit-learn>=1.1.0 in c:\\users\\leona\\anaconda3\\envs\\funda_apre_auto\\lib\\site-packages (from woodwork>=0.28.0->featuretools) (1.4.2)\n",
      "Requirement already satisfied: importlib-resources>=5.10.0 in c:\\users\\leona\\anaconda3\\envs\\funda_apre_auto\\lib\\site-packages (from woodwork>=0.28.0->featuretools) (6.5.2)\n",
      "Requirement already satisfied: six>=1.5 in c:\\users\\leona\\anaconda3\\envs\\funda_apre_auto\\lib\\site-packages (from python-dateutil->holidays>=0.17->featuretools) (1.17.0)\n",
      "Requirement already satisfied: joblib>=1.2.0 in c:\\users\\leona\\anaconda3\\envs\\funda_apre_auto\\lib\\site-packages (from scikit-learn>=1.1.0->woodwork>=0.28.0->featuretools) (1.3.2)\n",
      "Requirement already satisfied: threadpoolctl>=2.0.0 in c:\\users\\leona\\anaconda3\\envs\\funda_apre_auto\\lib\\site-packages (from scikit-learn>=1.1.0->woodwork>=0.28.0->featuretools) (3.6.0)\n"
     ]
    }
   ],
   "source": [
    "# %pip install featuretools"
   ]
  },
  {
   "cell_type": "code",
   "execution_count": 3,
   "id": "a2b39af6",
   "metadata": {},
   "outputs": [
    {
     "name": "stdout",
     "output_type": "stream",
     "text": [
      "PYTHONPATH: ['C:\\\\Users\\\\leona\\\\source\\\\repos\\\\fau_predic_salario', 'c:\\\\Users\\\\leona\\\\anaconda3\\\\envs\\\\funda_apre_auto\\\\python310.zip', 'c:\\\\Users\\\\leona\\\\anaconda3\\\\envs\\\\funda_apre_auto\\\\DLLs']\n"
     ]
    }
   ],
   "source": [
    "import sys, os\n",
    "from pathlib import Path\n",
    "\n",
    "# 1) Obtener la ruta al directorio del proyecto (un nivel arriba de notebooks/)\n",
    "project_root = Path().resolve().parent\n",
    "\n",
    "# 2a) Opción A: que Python vea \"src\" como paquete:\n",
    "sys.path.insert(0, str(project_root))\n",
    "\n",
    "# 2b) Opción B (más directo), apuntar directamente a src/, y usar import desde eda:\n",
    "# sys.path.insert(0, str(project_root / \"src\"))\n",
    "\n",
    "print(\"PYTHONPATH:\", sys.path[:3])"
   ]
  },
  {
   "cell_type": "code",
   "execution_count": 4,
   "id": "ee155eae",
   "metadata": {},
   "outputs": [
    {
     "name": "stdout",
     "output_type": "stream",
     "text": [
      "Pandas Version: 2.1.4\n",
      "Featuretools Version: 1.31.0\n"
     ]
    }
   ],
   "source": [
    "import featuretools as ft\n",
    "from featuretools.selection import (\n",
    "    remove_low_information_features,\n",
    "    remove_highly_correlated_features\n",
    ")\n",
    "import pandas as pd\n",
    "from src.eda.eda import merge_multiple_dataframes\n",
    "#Configuración de parametros de Pandas para mejor visualización\n",
    "pd.set_option('display.max_columns', None)\n",
    "pd.set_option('display.max_rows', None)\n",
    "pd.set_option('display.max_colwidth', None)\n",
    "pd.set_option('display.precision', 3)\n",
    "pd.set_option('plotting.backend', 'matplotlib') \n",
    "pd.options.mode.chained_assignment = None\n",
    "\n",
    "# En produccion eliminar, se incluye por informacion\n",
    "print(f'Pandas Version: {pd.__version__}') \n",
    "\n",
    "# En produccion eliminar, se incluye por informacion\n",
    "print(f'Featuretools Version: {ft.__version__}') "
   ]
  },
  {
   "cell_type": "code",
   "execution_count": 5,
   "id": "8c14a422",
   "metadata": {},
   "outputs": [],
   "source": [
    "# Cargar los datos\n",
    "file_paths = ['../data/descriptions.csv', '../data/people.csv', '../data/salary.csv']\n",
    "merged_df = merge_multiple_dataframes(file_paths, 'id')\n",
    "\n",
    "df_people      = pd.read_csv(\"../data/people.csv\")\n",
    "df_descriptions = pd.read_csv(\"../data/descriptions.csv\")\n",
    "df_salary      = pd.read_csv(\"../data/salary.csv\")"
   ]
  },
  {
   "cell_type": "code",
   "execution_count": 6,
   "id": "42f6e952",
   "metadata": {},
   "outputs": [
    {
     "data": {
      "text/plain": [
       "Index(['id', 'Description', 'Age', 'Gender', 'Education Level', 'Job Title',\n",
       "       'Years of Experience', 'Salary'],\n",
       "      dtype='object')"
      ]
     },
     "execution_count": 6,
     "metadata": {},
     "output_type": "execute_result"
    }
   ],
   "source": [
    "merged_df.columns"
   ]
  },
  {
   "cell_type": "code",
   "execution_count": 8,
   "id": "23074569",
   "metadata": {},
   "outputs": [
    {
     "name": "stderr",
     "output_type": "stream",
     "text": [
      "c:\\Users\\leona\\anaconda3\\envs\\funda_apre_auto\\lib\\site-packages\\woodwork\\type_sys\\utils.py:33: UserWarning: Could not infer format, so each element will be parsed individually, falling back to `dateutil`. To ensure parsing is consistent and as-expected, please specify a format.\n",
      "  pd.to_datetime(\n",
      "c:\\Users\\leona\\anaconda3\\envs\\funda_apre_auto\\lib\\site-packages\\woodwork\\type_sys\\utils.py:33: UserWarning: Could not infer format, so each element will be parsed individually, falling back to `dateutil`. To ensure parsing is consistent and as-expected, please specify a format.\n",
      "  pd.to_datetime(\n",
      "c:\\Users\\leona\\anaconda3\\envs\\funda_apre_auto\\lib\\site-packages\\woodwork\\type_sys\\utils.py:33: UserWarning: Could not infer format, so each element will be parsed individually, falling back to `dateutil`. To ensure parsing is consistent and as-expected, please specify a format.\n",
      "  pd.to_datetime(\n",
      "c:\\Users\\leona\\anaconda3\\envs\\funda_apre_auto\\lib\\site-packages\\woodwork\\type_sys\\utils.py:33: UserWarning: Could not infer format, so each element will be parsed individually, falling back to `dateutil`. To ensure parsing is consistent and as-expected, please specify a format.\n",
      "  pd.to_datetime(\n",
      "c:\\Users\\leona\\anaconda3\\envs\\funda_apre_auto\\lib\\site-packages\\woodwork\\type_sys\\utils.py:33: UserWarning: Could not infer format, so each element will be parsed individually, falling back to `dateutil`. To ensure parsing is consistent and as-expected, please specify a format.\n",
      "  pd.to_datetime(\n",
      "c:\\Users\\leona\\anaconda3\\envs\\funda_apre_auto\\lib\\site-packages\\woodwork\\type_sys\\utils.py:33: UserWarning: Could not infer format, so each element will be parsed individually, falling back to `dateutil`. To ensure parsing is consistent and as-expected, please specify a format.\n",
      "  pd.to_datetime(\n",
      "c:\\Users\\leona\\anaconda3\\envs\\funda_apre_auto\\lib\\site-packages\\woodwork\\type_sys\\utils.py:33: UserWarning: Could not infer format, so each element will be parsed individually, falling back to `dateutil`. To ensure parsing is consistent and as-expected, please specify a format.\n",
      "  pd.to_datetime(\n",
      "c:\\Users\\leona\\anaconda3\\envs\\funda_apre_auto\\lib\\site-packages\\woodwork\\type_sys\\utils.py:33: UserWarning: Could not infer format, so each element will be parsed individually, falling back to `dateutil`. To ensure parsing is consistent and as-expected, please specify a format.\n",
      "  pd.to_datetime(\n",
      "c:\\Users\\leona\\anaconda3\\envs\\funda_apre_auto\\lib\\site-packages\\featuretools\\computational_backends\\feature_set_calculator.py:785: FutureWarning: The provided callable <function max at 0x0000017C627D1990> is currently using SeriesGroupBy.max. In a future version of pandas, the provided callable will be used directly. To keep current behavior pass the string \"max\" instead.\n",
      "  ).agg(to_agg)\n",
      "c:\\Users\\leona\\anaconda3\\envs\\funda_apre_auto\\lib\\site-packages\\featuretools\\computational_backends\\feature_set_calculator.py:785: FutureWarning: The provided callable <function mean at 0x0000017C627D2290> is currently using SeriesGroupBy.mean. In a future version of pandas, the provided callable will be used directly. To keep current behavior pass the string \"mean\" instead.\n",
      "  ).agg(to_agg)\n",
      "c:\\Users\\leona\\anaconda3\\envs\\funda_apre_auto\\lib\\site-packages\\featuretools\\computational_backends\\feature_set_calculator.py:785: FutureWarning: The provided callable <function min at 0x0000017C627D1AB0> is currently using SeriesGroupBy.min. In a future version of pandas, the provided callable will be used directly. To keep current behavior pass the string \"min\" instead.\n",
      "  ).agg(to_agg)\n"
     ]
    },
    {
     "name": "stdout",
     "output_type": "stream",
     "text": [
      "    Age  Gender Education Level  Years of Experience  COUNT(descriptions)  \\\n",
      "id                                                                          \n",
      "0    32    Male      Bachelor's                  5.0                    1   \n",
      "1    28  Female        Master's                  3.0                    1   \n",
      "2    45    Male             PhD                 15.0                    1   \n",
      "3    36  Female      Bachelor's                  7.0                    1   \n",
      "4    52    Male        Master's                 20.0                    1   \n",
      "\n",
      "    COUNT(salary)  MAX(salary.Salary)  MEAN(salary.Salary)  MIN(salary.Salary)  \n",
      "id                                                                              \n",
      "0               1             90000.0              90000.0             90000.0  \n",
      "1               1             65000.0              65000.0             65000.0  \n",
      "2               1            150000.0             150000.0            150000.0  \n",
      "3               1             60000.0              60000.0             60000.0  \n",
      "4               1            200000.0             200000.0            200000.0  \n"
     ]
    }
   ],
   "source": [
    "# 1) Cargo los CSVs\n",
    "df_people       = pd.read_csv(\"../data/people.csv\")\n",
    "df_descriptions = pd.read_csv(\"../data/descriptions.csv\")\n",
    "df_salary       = pd.read_csv(\"../data/salary.csv\")\n",
    "\n",
    "entities = {\n",
    "    \"customers\" : (df_people, \"customer_id\"),\n",
    "    \"sessions\" : (df_descriptions, \"session_id\"),\n",
    "    \"transactions\" : (df_salary, \"transaction_id\")\n",
    "}\n",
    "\n",
    "# 2) Creo el EntitySet\n",
    "es = ft.EntitySet(id=\"employee_data\")\n",
    "\n",
    "# 3) Agrego la tabla padre “people”, usando su propia PK “id”\n",
    "es = es.add_dataframe(\n",
    "    dataframe_name=\"people\",\n",
    "    dataframe=df_people,\n",
    "    index=\"id\"                     # aquí sí es clave primaria única\n",
    ")\n",
    "\n",
    "# 4) Agrego cada tabla hija con un índice nuevo único\n",
    "es = es.add_dataframe(\n",
    "    dataframe_name=\"descriptions\",\n",
    "    dataframe=df_descriptions,\n",
    "    make_index=True,               # le dice a FT que cree una columna autonumérica\n",
    "    index=\"descriptions_index\"     # nombre de ese nuevo índice único\n",
    ")\n",
    "\n",
    "es = es.add_dataframe(\n",
    "    dataframe_name=\"salary\",\n",
    "    dataframe=df_salary,\n",
    "    make_index=True,\n",
    "    index=\"salary_index\"\n",
    ")\n",
    "\n",
    "# 5) Ahora sí, defino las relaciones usando la columna “id” de cada hijo\n",
    "es = es.add_relationship(\n",
    "    parent_dataframe_name=\"people\",\n",
    "    parent_column_name=\"id\",\n",
    "    child_dataframe_name=\"descriptions\",\n",
    "    child_column_name=\"id\"         # aquí “id” es FK que coincide con people.id\n",
    ")\n",
    "\n",
    "es = es.add_relationship(\n",
    "    parent_dataframe_name=\"people\",\n",
    "    parent_column_name=\"id\",\n",
    "    child_dataframe_name=\"salary\",\n",
    "    child_column_name=\"id\"\n",
    ")\n",
    "\n",
    "# 6) Y ya puedes hacer tu DFS normalmente\n",
    "feature_matrix, feature_defs = ft.dfs(\n",
    "    entityset=es,\n",
    "    target_dataframe_name=\"people\",\n",
    "    agg_primitives=[\"mean\", \"count\", \"max\", \"min\"],\n",
    "    max_depth=1\n",
    ")\n",
    "\n",
    "# feature_matrix_sessions, features_defs = ft.dfs(\n",
    "#     dataframes=dataframes, relationships=relationships, target_dataframe_name=\"sessions\"\n",
    "# )\n",
    "\n",
    "print(feature_matrix.head())\n"
   ]
  }
 ],
 "metadata": {
  "kernelspec": {
   "display_name": "funda_apre_auto",
   "language": "python",
   "name": "python3"
  },
  "language_info": {
   "codemirror_mode": {
    "name": "ipython",
    "version": 3
   },
   "file_extension": ".py",
   "mimetype": "text/x-python",
   "name": "python",
   "nbconvert_exporter": "python",
   "pygments_lexer": "ipython3",
   "version": "3.10.16"
  }
 },
 "nbformat": 4,
 "nbformat_minor": 5
}
