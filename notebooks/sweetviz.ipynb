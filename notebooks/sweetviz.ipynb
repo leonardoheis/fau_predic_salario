{
 "cells": [
  {
   "cell_type": "markdown",
   "id": "d85cfb5b",
   "metadata": {},
   "source": [
    "# We use sweetviz for the initial EDA analysis."
   ]
  },
  {
   "cell_type": "code",
   "execution_count": null,
   "id": "a80abd52",
   "metadata": {},
   "outputs": [
    {
     "name": "stdout",
     "output_type": "stream",
     "text": [
      "Requirement already satisfied: sweetviz in c:\\users\\leona\\anaconda3\\envs\\funda_apre_auto\\lib\\site-packages (2.3.1)\n",
      "Requirement already satisfied: pandas!=1.0.0,!=1.0.1,!=1.0.2,>=0.25.3 in c:\\users\\leona\\anaconda3\\envs\\funda_apre_auto\\lib\\site-packages (from sweetviz) (2.1.4)\n",
      "Requirement already satisfied: numpy>=1.16.0 in c:\\users\\leona\\anaconda3\\envs\\funda_apre_auto\\lib\\site-packages (from sweetviz) (1.26.4)\n",
      "Requirement already satisfied: matplotlib>=3.1.3 in c:\\users\\leona\\anaconda3\\envs\\funda_apre_auto\\lib\\site-packages (from sweetviz) (3.7.5)\n",
      "Requirement already satisfied: tqdm>=4.43.0 in c:\\users\\leona\\anaconda3\\envs\\funda_apre_auto\\lib\\site-packages (from sweetviz) (4.67.1)\n",
      "Requirement already satisfied: scipy>=1.3.2 in c:\\users\\leona\\anaconda3\\envs\\funda_apre_auto\\lib\\site-packages (from sweetviz) (1.11.4)\n",
      "Requirement already satisfied: jinja2>=2.11.1 in c:\\users\\leona\\anaconda3\\envs\\funda_apre_auto\\lib\\site-packages (from sweetviz) (3.1.3)\n",
      "Requirement already satisfied: importlib-resources>=1.2.0 in c:\\users\\leona\\anaconda3\\envs\\funda_apre_auto\\lib\\site-packages (from sweetviz) (6.5.2)\n",
      "Requirement already satisfied: MarkupSafe>=2.0 in c:\\users\\leona\\anaconda3\\envs\\funda_apre_auto\\lib\\site-packages (from jinja2>=2.11.1->sweetviz) (3.0.2)\n",
      "Requirement already satisfied: contourpy>=1.0.1 in c:\\users\\leona\\anaconda3\\envs\\funda_apre_auto\\lib\\site-packages (from matplotlib>=3.1.3->sweetviz) (1.3.1)\n",
      "Requirement already satisfied: cycler>=0.10 in c:\\users\\leona\\appdata\\roaming\\python\\python310\\site-packages (from matplotlib>=3.1.3->sweetviz) (0.11.0)\n",
      "Requirement already satisfied: fonttools>=4.22.0 in c:\\users\\leona\\anaconda3\\envs\\funda_apre_auto\\lib\\site-packages (from matplotlib>=3.1.3->sweetviz) (4.56.0)\n",
      "Requirement already satisfied: kiwisolver>=1.0.1 in c:\\users\\leona\\anaconda3\\envs\\funda_apre_auto\\lib\\site-packages (from matplotlib>=3.1.3->sweetviz) (1.4.8)\n",
      "Requirement already satisfied: packaging>=20.0 in c:\\users\\leona\\anaconda3\\envs\\funda_apre_auto\\lib\\site-packages (from matplotlib>=3.1.3->sweetviz) (23.2)\n",
      "Requirement already satisfied: pillow>=6.2.0 in c:\\users\\leona\\anaconda3\\envs\\funda_apre_auto\\lib\\site-packages (from matplotlib>=3.1.3->sweetviz) (11.1.0)\n",
      "Requirement already satisfied: pyparsing>=2.3.1 in c:\\users\\leona\\anaconda3\\envs\\funda_apre_auto\\lib\\site-packages (from matplotlib>=3.1.3->sweetviz) (3.2.1)\n",
      "Requirement already satisfied: python-dateutil>=2.7 in c:\\users\\leona\\anaconda3\\envs\\funda_apre_auto\\lib\\site-packages (from matplotlib>=3.1.3->sweetviz) (2.9.0.post0)\n",
      "Requirement already satisfied: pytz>=2020.1 in c:\\users\\leona\\anaconda3\\envs\\funda_apre_auto\\lib\\site-packages (from pandas!=1.0.0,!=1.0.1,!=1.0.2,>=0.25.3->sweetviz) (2023.4)\n",
      "Requirement already satisfied: tzdata>=2022.1 in c:\\users\\leona\\anaconda3\\envs\\funda_apre_auto\\lib\\site-packages (from pandas!=1.0.0,!=1.0.1,!=1.0.2,>=0.25.3->sweetviz) (2025.2)\n",
      "Requirement already satisfied: colorama in c:\\users\\leona\\anaconda3\\envs\\funda_apre_auto\\lib\\site-packages (from tqdm>=4.43.0->sweetviz) (0.4.6)\n",
      "Requirement already satisfied: six>=1.5 in c:\\users\\leona\\anaconda3\\envs\\funda_apre_auto\\lib\\site-packages (from python-dateutil>=2.7->matplotlib>=3.1.3->sweetviz) (1.17.0)\n",
      "Note: you may need to restart the kernel to use updated packages.\n"
     ]
    }
   ],
   "source": [
    "# %pip install sweetviz"
   ]
  },
  {
   "cell_type": "code",
   "execution_count": 1,
   "id": "fd596aa0",
   "metadata": {},
   "outputs": [
    {
     "name": "stdout",
     "output_type": "stream",
     "text": [
      "PYTHONPATH: ['C:\\\\Users\\\\leona\\\\source\\\\repos\\\\fau_predic_salario', 'c:\\\\Users\\\\leona\\\\anaconda3\\\\envs\\\\funda_apre_auto\\\\python310.zip', 'c:\\\\Users\\\\leona\\\\anaconda3\\\\envs\\\\funda_apre_auto\\\\DLLs']\n"
     ]
    }
   ],
   "source": [
    "import sys, os\n",
    "from pathlib import Path\n",
    "\n",
    "# 1) Obtener la ruta al directorio del proyecto (un nivel arriba de notebooks/)\n",
    "project_root = Path().resolve().parent\n",
    "\n",
    "# 2a) Opción A: que Python vea \"src\" como paquete:\n",
    "sys.path.insert(0, str(project_root))\n",
    "\n",
    "# 2b) Opción B (más directo), apuntar directamente a src/, y usar import desde eda:\n",
    "# sys.path.insert(0, str(project_root / \"src\"))\n",
    "\n",
    "print(\"PYTHONPATH:\", sys.path[:3])"
   ]
  },
  {
   "cell_type": "code",
   "execution_count": 2,
   "id": "92975d1e",
   "metadata": {},
   "outputs": [],
   "source": [
    "import sweetviz"
   ]
  },
  {
   "cell_type": "code",
   "execution_count": 3,
   "id": "d3c7570c",
   "metadata": {},
   "outputs": [
    {
     "name": "stdout",
     "output_type": "stream",
     "text": [
      "Pandas Version: 2.1.4\n"
     ]
    }
   ],
   "source": [
    "import pandas as pd\n",
    "from src.eda.eda import merge_multiple_dataframes\n",
    "#Configuración de parametros de Pandas para mejor visualización\n",
    "pd.set_option('display.max_columns', None)\n",
    "pd.set_option('display.max_rows', None)\n",
    "pd.set_option('display.max_colwidth', None)\n",
    "pd.set_option('display.precision', 3)\n",
    "pd.set_option('plotting.backend', 'matplotlib') \n",
    "pd.options.mode.chained_assignment = None\n",
    "\n",
    "# En produccion eliminar, se incluye por informacion\n",
    "print(f'Pandas Version: {pd.__version__}') "
   ]
  },
  {
   "cell_type": "code",
   "execution_count": 4,
   "id": "45089807",
   "metadata": {},
   "outputs": [],
   "source": [
    "# Cargar los datos\n",
    "file_paths = ['../data/descriptions.csv', '../data/people.csv', '../data/salary.csv']\n",
    "merged_df = merge_multiple_dataframes(file_paths, 'id')"
   ]
  },
  {
   "cell_type": "code",
   "execution_count": 5,
   "id": "a3580746",
   "metadata": {},
   "outputs": [
    {
     "data": {
      "application/vnd.jupyter.widget-view+json": {
       "model_id": "2d91e815036d4dad83748f37411d188a",
       "version_major": 2,
       "version_minor": 0
      },
      "text/plain": [
       "                                             |          | [  0%]   00:00 -> (? left)"
      ]
     },
     "metadata": {},
     "output_type": "display_data"
    }
   ],
   "source": [
    "report  = sweetviz.analyze(merged_df)"
   ]
  },
  {
   "cell_type": "code",
   "execution_count": 6,
   "id": "7cce44a7",
   "metadata": {},
   "outputs": [
    {
     "name": "stdout",
     "output_type": "stream",
     "text": [
      "Report ../reports/sweetviz_report.html was generated.\n"
     ]
    }
   ],
   "source": [
    "report.show_html(filepath=\"../reports/sweetviz_report.html\",\n",
    "                 open_browser=False)"
   ]
  }
 ],
 "metadata": {
  "kernelspec": {
   "display_name": "funda_apre_auto",
   "language": "python",
   "name": "python3"
  },
  "language_info": {
   "codemirror_mode": {
    "name": "ipython",
    "version": 3
   },
   "file_extension": ".py",
   "mimetype": "text/x-python",
   "name": "python",
   "nbconvert_exporter": "python",
   "pygments_lexer": "ipython3",
   "version": "3.10.16"
  }
 },
 "nbformat": 4,
 "nbformat_minor": 5
}
