{
 "cells": [
  {
   "cell_type": "markdown",
   "id": "d85cfb5b",
   "metadata": {},
   "source": [
    "# We use sweetviz for the initial EDA analysis."
   ]
  },
  {
   "cell_type": "code",
   "execution_count": null,
   "id": "a80abd52",
   "metadata": {},
   "outputs": [
    {
     "name": "stdout",
     "output_type": "stream",
     "text": [
      "Requirement already satisfied: sweetviz in c:\\users\\leona\\anaconda3\\envs\\funda_apre_auto\\lib\\site-packages (2.3.1)\n",
      "Requirement already satisfied: pandas!=1.0.0,!=1.0.1,!=1.0.2,>=0.25.3 in c:\\users\\leona\\anaconda3\\envs\\funda_apre_auto\\lib\\site-packages (from sweetviz) (2.1.4)\n",
      "Requirement already satisfied: numpy>=1.16.0 in c:\\users\\leona\\anaconda3\\envs\\funda_apre_auto\\lib\\site-packages (from sweetviz) (1.26.4)\n",
      "Requirement already satisfied: matplotlib>=3.1.3 in c:\\users\\leona\\anaconda3\\envs\\funda_apre_auto\\lib\\site-packages (from sweetviz) (3.7.5)\n",
      "Requirement already satisfied: tqdm>=4.43.0 in c:\\users\\leona\\anaconda3\\envs\\funda_apre_auto\\lib\\site-packages (from sweetviz) (4.67.1)\n",
      "Requirement already satisfied: scipy>=1.3.2 in c:\\users\\leona\\anaconda3\\envs\\funda_apre_auto\\lib\\site-packages (from sweetviz) (1.11.4)\n",
      "Requirement already satisfied: jinja2>=2.11.1 in c:\\users\\leona\\anaconda3\\envs\\funda_apre_auto\\lib\\site-packages (from sweetviz) (3.1.3)\n",
      "Requirement already satisfied: importlib-resources>=1.2.0 in c:\\users\\leona\\anaconda3\\envs\\funda_apre_auto\\lib\\site-packages (from sweetviz) (6.5.2)\n",
      "Requirement already satisfied: MarkupSafe>=2.0 in c:\\users\\leona\\anaconda3\\envs\\funda_apre_auto\\lib\\site-packages (from jinja2>=2.11.1->sweetviz) (3.0.2)\n",
      "Requirement already satisfied: contourpy>=1.0.1 in c:\\users\\leona\\anaconda3\\envs\\funda_apre_auto\\lib\\site-packages (from matplotlib>=3.1.3->sweetviz) (1.3.1)\n",
      "Requirement already satisfied: cycler>=0.10 in c:\\users\\leona\\appdata\\roaming\\python\\python310\\site-packages (from matplotlib>=3.1.3->sweetviz) (0.11.0)\n",
      "Requirement already satisfied: fonttools>=4.22.0 in c:\\users\\leona\\anaconda3\\envs\\funda_apre_auto\\lib\\site-packages (from matplotlib>=3.1.3->sweetviz) (4.56.0)\n",
      "Requirement already satisfied: kiwisolver>=1.0.1 in c:\\users\\leona\\anaconda3\\envs\\funda_apre_auto\\lib\\site-packages (from matplotlib>=3.1.3->sweetviz) (1.4.8)\n",
      "Requirement already satisfied: packaging>=20.0 in c:\\users\\leona\\anaconda3\\envs\\funda_apre_auto\\lib\\site-packages (from matplotlib>=3.1.3->sweetviz) (23.2)\n",
      "Requirement already satisfied: pillow>=6.2.0 in c:\\users\\leona\\anaconda3\\envs\\funda_apre_auto\\lib\\site-packages (from matplotlib>=3.1.3->sweetviz) (11.1.0)\n",
      "Requirement already satisfied: pyparsing>=2.3.1 in c:\\users\\leona\\anaconda3\\envs\\funda_apre_auto\\lib\\site-packages (from matplotlib>=3.1.3->sweetviz) (3.2.1)\n",
      "Requirement already satisfied: python-dateutil>=2.7 in c:\\users\\leona\\anaconda3\\envs\\funda_apre_auto\\lib\\site-packages (from matplotlib>=3.1.3->sweetviz) (2.9.0.post0)\n",
      "Requirement already satisfied: pytz>=2020.1 in c:\\users\\leona\\anaconda3\\envs\\funda_apre_auto\\lib\\site-packages (from pandas!=1.0.0,!=1.0.1,!=1.0.2,>=0.25.3->sweetviz) (2023.4)\n",
      "Requirement already satisfied: tzdata>=2022.1 in c:\\users\\leona\\anaconda3\\envs\\funda_apre_auto\\lib\\site-packages (from pandas!=1.0.0,!=1.0.1,!=1.0.2,>=0.25.3->sweetviz) (2025.2)\n",
      "Requirement already satisfied: colorama in c:\\users\\leona\\anaconda3\\envs\\funda_apre_auto\\lib\\site-packages (from tqdm>=4.43.0->sweetviz) (0.4.6)\n",
      "Requirement already satisfied: six>=1.5 in c:\\users\\leona\\anaconda3\\envs\\funda_apre_auto\\lib\\site-packages (from python-dateutil>=2.7->matplotlib>=3.1.3->sweetviz) (1.17.0)\n",
      "Note: you may need to restart the kernel to use updated packages.\n"
     ]
    }
   ],
   "source": [
    "# %pip install sweetviz"
   ]
  },
  {
   "cell_type": "code",
   "execution_count": null,
   "id": "92975d1e",
   "metadata": {},
   "outputs": [],
   "source": [
    "import sweetviz"
   ]
  }
 ],
 "metadata": {
  "kernelspec": {
   "display_name": "funda_apre_auto",
   "language": "python",
   "name": "python3"
  },
  "language_info": {
   "codemirror_mode": {
    "name": "ipython",
    "version": 3
   },
   "file_extension": ".py",
   "mimetype": "text/x-python",
   "name": "python",
   "nbconvert_exporter": "python",
   "pygments_lexer": "ipython3",
   "version": "3.10.16"
  }
 },
 "nbformat": 4,
 "nbformat_minor": 5
}
